{
 "cells": [
  {
   "cell_type": "markdown",
   "source": [
    "# AML - Exercise Sheet 5.2\n",
    "## Exercise 3"
   ],
   "metadata": {
    "collapsed": false
   }
  },
  {
   "cell_type": "code",
   "execution_count": 9,
   "outputs": [],
   "source": [
    "import numpy as np\n",
    "import matplotlib.pyplot as plt\n",
    "import seaborn as sns"
   ],
   "metadata": {
    "collapsed": false
   }
  },
  {
   "cell_type": "code",
   "execution_count": 8,
   "outputs": [],
   "source": [
    "N = 10_000  # Population size\n",
    "population_data = np.random.uniform(0, 1, N)\t# ground truth"
   ],
   "metadata": {
    "collapsed": false
   }
  },
  {
   "cell_type": "code",
   "execution_count": 3,
   "outputs": [],
   "source": [
    "thresholds = np.linspace(0, 1, 11)  # 10 thresholds including 0 and 1\n",
    "H = [lambda x, thresh=t: 1 if x >= thresh else -1 for t in thresholds]"
   ],
   "metadata": {
    "collapsed": false
   }
  },
  {
   "cell_type": "code",
   "execution_count": 13,
   "outputs": [],
   "source": [
    "def bayes_classifier(x):\n",
    "    return 1 if x >= 0.5 else -1\n",
    "\n",
    "def true_risk(f):\n",
    "    misclassifications = np.mean([f(x) != bayes_classifier(x) for x in population_data])\n",
    "    return misclassifications\n",
    "\n",
    "true_risks = [true_risk(f) for f in H]"
   ],
   "metadata": {
    "collapsed": false
   }
  },
  {
   "cell_type": "code",
   "execution_count": 14,
   "outputs": [],
   "source": [
    "n = 50  # Sample size\n",
    "T = 1_000  # Number of trials\n",
    "\n",
    "epsilons = np.linspace(0, 0.5, 50)\n",
    "p_epsilon = {eps: 0 for eps in epsilons}\n",
    "\n",
    "for _ in range(T):\n",
    "    sample_data = np.random.uniform(0, 1, n)\n",
    "    for f, R in zip(H, true_risks):\n",
    "        R_n = np.mean([f(x) != (1 if x >= 0.5 else -1) for x in sample_data])\n",
    "        for eps in epsilons:\n",
    "            if abs(R_n - R) >= eps:\n",
    "                p_epsilon[eps] += 1\n",
    "\n",
    "# Normalize the probabilities\n",
    "p_epsilon = {eps: count / T for eps, count in p_epsilon.items()}"
   ],
   "metadata": {
    "collapsed": false
   }
  },
  {
   "cell_type": "code",
   "execution_count": null,
   "outputs": [],
   "source": [
    "# Collect all deviations\n",
    "deviations = []\n",
    "for f, R in zip(H, true_risks):\n",
    "    sample_devs = []\n",
    "    for _ in range(T):\n",
    "        sample_data = np.random.uniform(0, 1, n)\n",
    "        R_n = np.mean([f(x) != (1 if x >= 0.5 else -1) for x in sample_data])\n",
    "        sample_devs.append(abs(R_n - R))\n",
    "    deviations.append(sample_devs)\n",
    "\n",
    "sns.violinplot(data=deviations)\n",
    "plt.xlabel('Hypotheses')\n",
    "plt.ylabel('Deviations $|R_n(f) − R(f)|$')\n",
    "plt.show()"
   ],
   "metadata": {
    "collapsed": false,
    "pycharm": {
     "is_executing": true
    }
   }
  },
  {
   "cell_type": "code",
   "execution_count": null,
   "outputs": [],
   "source": [
    "# Hoeffding's inequality and union bound\n",
    "hoeffding = [2 * np.exp(-2 * eps**2 * n) for eps in epsilons]\n",
    "union_bound = [len(H) * h for h in hoeffding]\n",
    "\n",
    "plt.plot(epsilons, [p_epsilon[eps] for eps in epsilons], label='Empirical p(ε)')\n",
    "plt.plot(epsilons, hoeffding, label='Hoeffding')\n",
    "plt.plot(epsilons, union_bound, label='Union Bound')\n",
    "plt.xlabel('ε')\n",
    "plt.ylabel('Probability')\n",
    "plt.legend()\n",
    "plt.show()"
   ],
   "metadata": {
    "collapsed": false,
    "pycharm": {
     "is_executing": true
    }
   }
  },
  {
   "cell_type": "code",
   "execution_count": null,
   "outputs": [],
   "source": [],
   "metadata": {
    "collapsed": false
   }
  }
 ],
 "metadata": {
  "kernelspec": {
   "display_name": "Python 3",
   "language": "python",
   "name": "python3"
  },
  "language_info": {
   "codemirror_mode": {
    "name": "ipython",
    "version": 2
   },
   "file_extension": ".py",
   "mimetype": "text/x-python",
   "name": "python",
   "nbconvert_exporter": "python",
   "pygments_lexer": "ipython2",
   "version": "2.7.6"
  }
 },
 "nbformat": 4,
 "nbformat_minor": 0
}
